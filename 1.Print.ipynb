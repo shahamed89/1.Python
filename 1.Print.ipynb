{
 "cells": [
  {
   "cell_type": "code",
   "execution_count": 1,
   "id": "621a8a05-326a-4737-957f-74bea480a1e5",
   "metadata": {},
   "outputs": [
    {
     "name": "stdout",
     "output_type": "stream",
     "text": [
      "\n"
     ]
    }
   ],
   "source": [
    "print()"
   ]
  },
  {
   "cell_type": "code",
   "execution_count": 2,
   "id": "f72cf8ff-3983-4d01-8269-b2127f09f8ee",
   "metadata": {},
   "outputs": [
    {
     "ename": "NameError",
     "evalue": "name 'prnit' is not defined",
     "output_type": "error",
     "traceback": [
      "\u001b[1;31m---------------------------------------------------------------------------\u001b[0m",
      "\u001b[1;31mNameError\u001b[0m                                 Traceback (most recent call last)",
      "Cell \u001b[1;32mIn[2], line 1\u001b[0m\n\u001b[1;32m----> 1\u001b[0m prnit(\u001b[38;5;124m\"\u001b[39m\u001b[38;5;124mWelcome on Board\u001b[39m\u001b[38;5;124m\"\u001b[39m)\n",
      "\u001b[1;31mNameError\u001b[0m: name 'prnit' is not defined"
     ]
    }
   ],
   "source": [
    "prnit(\"Welcome on Board\")"
   ]
  },
  {
   "cell_type": "code",
   "execution_count": 3,
   "id": "0d247bd2-e5e6-4274-b6c1-3df085527c72",
   "metadata": {},
   "outputs": [
    {
     "name": "stdout",
     "output_type": "stream",
     "text": [
      "Welcome on Boars\n"
     ]
    }
   ],
   "source": [
    "print(\"Welcome on Boars\")"
   ]
  },
  {
   "cell_type": "code",
   "execution_count": 4,
   "id": "f5334ec4-d9d0-40bc-b4d3-17bfb0ae1065",
   "metadata": {},
   "outputs": [
    {
     "name": "stdout",
     "output_type": "stream",
     "text": [
      "Welcome on Board\n"
     ]
    }
   ],
   "source": [
    "print(\"Welcome on Board\")"
   ]
  },
  {
   "cell_type": "code",
   "execution_count": null,
   "id": "d5f690fe-ee6f-46e3-a736-b4044066207a",
   "metadata": {},
   "outputs": [],
   "source": []
  }
 ],
 "metadata": {
  "kernelspec": {
   "display_name": "Python 3 (ipykernel)",
   "language": "python",
   "name": "python3"
  },
  "language_info": {
   "codemirror_mode": {
    "name": "ipython",
    "version": 3
   },
   "file_extension": ".py",
   "mimetype": "text/x-python",
   "name": "python",
   "nbconvert_exporter": "python",
   "pygments_lexer": "ipython3",
   "version": "3.12.4"
  }
 },
 "nbformat": 4,
 "nbformat_minor": 5
}
