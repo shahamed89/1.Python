{
 "cells": [
  {
   "cell_type": "code",
   "execution_count": 8,
   "id": "2b2d5881-9d69-4170-8d3b-f110e713ae17",
   "metadata": {},
   "outputs": [
    {
     "name": "stdout",
     "output_type": "stream",
     "text": [
      "Welcome to Assignment-1\n"
     ]
    }
   ],
   "source": [
    "print(\"Welcome to Assignment-1\")"
   ]
  },
  {
   "cell_type": "code",
   "execution_count": 4,
   "id": "e81ed5c0-4019-4285-95dd-4706be77fd36",
   "metadata": {},
   "outputs": [
    {
     "name": "stdout",
     "output_type": "stream",
     "text": [
      "Num1 = 10\n",
      "Num2 = 30\n",
      "Add = 40\n"
     ]
    }
   ],
   "source": [
    "Num1=10\n",
    "print(\"Num1 = 10\")\n",
    "Num2=30\n",
    "print(\"Num2 = 30\")\n",
    "print(\"Add =\",Num1+Num2)"
   ]
  },
  {
   "cell_type": "markdown",
   "id": "f40309c4-c2b0-4c3c-ac38-50efab40d705",
   "metadata": {},
   "source": [
    "#Body Mass Index"
   ]
  },
  {
   "cell_type": "code",
   "execution_count": 7,
   "id": "7cc44972-8df2-4726-a3ac-71be1dd487dd",
   "metadata": {},
   "outputs": [
    {
     "name": "stdin",
     "output_type": "stream",
     "text": [
      "Enter the BMI Index: 34\n"
     ]
    },
    {
     "name": "stdout",
     "output_type": "stream",
     "text": [
      "Very Overweight\n"
     ]
    }
   ],
   "source": [
    "Bmi=int(input(\"Enter the BMI Index:\"))\n",
    "if(Bmi<=24.9):\n",
    "    print(\"Normal\")\n",
    "elif(Bmi<35):\n",
    "    print(\"Very Overweight\")\n",
    "else:\n",
    "    print(\"Obese\")"
   ]
  },
  {
   "cell_type": "code",
   "execution_count": null,
   "id": "9e83f130-d5e3-4414-9660-676acb640998",
   "metadata": {},
   "outputs": [],
   "source": []
  }
 ],
 "metadata": {
  "kernelspec": {
   "display_name": "Python 3 (ipykernel)",
   "language": "python",
   "name": "python3"
  },
  "language_info": {
   "codemirror_mode": {
    "name": "ipython",
    "version": 3
   },
   "file_extension": ".py",
   "mimetype": "text/x-python",
   "name": "python",
   "nbconvert_exporter": "python",
   "pygments_lexer": "ipython3",
   "version": "3.12.4"
  }
 },
 "nbformat": 4,
 "nbformat_minor": 5
}
