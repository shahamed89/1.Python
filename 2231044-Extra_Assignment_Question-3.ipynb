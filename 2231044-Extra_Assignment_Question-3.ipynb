{
 "cells": [
  {
   "cell_type": "code",
   "execution_count": 16,
   "id": "4042ce83-aeee-449f-b250-ed5ce123d58b",
   "metadata": {},
   "outputs": [
    {
     "name": "stdin",
     "output_type": "stream",
     "text": [
      "Enter the Value: 10\n"
     ]
    },
    {
     "name": "stdout",
     "output_type": "stream",
     "text": [
      "Correct\n"
     ]
    }
   ],
   "source": [
    "age=int(input(\"Enter the Value:\"))\n",
    "if(age==10):\n",
    "    print(\"Correct\")"
   ]
  },
  {
   "cell_type": "markdown",
   "id": "35dfab72-c0db-4685-858c-14aeccc6bf2d",
   "metadata": {},
   "source": [
    "# Check the password, using if and else"
   ]
  },
  {
   "cell_type": "code",
   "execution_count": 12,
   "id": "74d673e6-0b5c-4126-b543-50401f8571cf",
   "metadata": {},
   "outputs": [
    {
     "name": "stdin",
     "output_type": "stream",
     "text": [
      "Enter the password: HOPE@123\n"
     ]
    },
    {
     "name": "stdout",
     "output_type": "stream",
     "text": [
      "Password is correct\n"
     ]
    }
   ],
   "source": [
    "password=input(\"Enter the password:\")\n",
    "if (password==\"HOPE@123\"):\n",
    "    print(\"Password is correct\")\n",
    "else:\n",
    "    print(\"Wrong\")\n",
    "    "
   ]
  },
  {
   "cell_type": "markdown",
   "id": "265aa5c5-735f-4743-abc0-be809ed42768",
   "metadata": {},
   "source": [
    "# Catagory the people by their age like children, adult, citizen, senior citizen..."
   ]
  },
  {
   "cell_type": "code",
   "execution_count": 21,
   "id": "ce6d8418-be9f-452e-8f70-fc152ea34111",
   "metadata": {},
   "outputs": [
    {
     "name": "stdin",
     "output_type": "stream",
     "text": [
      "Age: 20\n"
     ]
    },
    {
     "name": "stdout",
     "output_type": "stream",
     "text": [
      "Adult\n"
     ]
    }
   ],
   "source": [
    "age1=int(input(\"Age:\"))\n",
    "if(age1<15):\n",
    "    print(\"Children\")\n",
    "elif(age1<35):\n",
    "    print(\"Adult\")\n",
    "elif(age1<55):\n",
    "    print(\"Citizen\")\n",
    "else:\n",
    "    print(\"Senior Citizen\")"
   ]
  },
  {
   "cell_type": "markdown",
   "id": "603fa4bb-fd21-45b4-b49a-62f869af92d0",
   "metadata": {},
   "source": [
    "# Find whether given number is positive or negative"
   ]
  },
  {
   "cell_type": "code",
   "execution_count": 31,
   "id": "631b8bee-9ec7-41d6-be9d-a7c255eafc02",
   "metadata": {},
   "outputs": [
    {
     "name": "stdin",
     "output_type": "stream",
     "text": [
      "Enter the any number: 1\n"
     ]
    },
    {
     "name": "stdout",
     "output_type": "stream",
     "text": [
      "Number is Positive\n"
     ]
    }
   ],
   "source": [
    "num=int(input(\"Enter the any number:\"))\n",
    "if(num>0):\n",
    "    print(\"Number is Positive\")\n",
    "elif(num==0):\n",
    "    print(\"Zero\")\n",
    "else:\n",
    "    print(\"Number is Negative\")\n"
   ]
  },
  {
   "cell_type": "code",
   "execution_count": 42,
   "id": "ceaa8e82-2042-49d8-adcf-48ae6ff30286",
   "metadata": {},
   "outputs": [
    {
     "name": "stdin",
     "output_type": "stream",
     "text": [
      "Enter a number to Check: 22\n"
     ]
    },
    {
     "name": "stdout",
     "output_type": "stream",
     "text": [
      "Number is not divisible by 5\n"
     ]
    }
   ],
   "source": [
    "div=int(input(\"Enter a number to Check:\"))\n",
    "if((div%5)==0):\n",
    "    print(\"Number is divisible by 5\")\n",
    "else:\n",
    "     print(\"Number is not divisible by 5\")\n",
    "        "
   ]
  },
  {
   "cell_type": "code",
   "execution_count": null,
   "id": "e22af115-030b-4fc8-b214-630d962ee23d",
   "metadata": {},
   "outputs": [],
   "source": []
  }
 ],
 "metadata": {
  "kernelspec": {
   "display_name": "Python 3 (ipykernel)",
   "language": "python",
   "name": "python3"
  },
  "language_info": {
   "codemirror_mode": {
    "name": "ipython",
    "version": 3
   },
   "file_extension": ".py",
   "mimetype": "text/x-python",
   "name": "python",
   "nbconvert_exporter": "python",
   "pygments_lexer": "ipython3",
   "version": "3.12.4"
  }
 },
 "nbformat": 4,
 "nbformat_minor": 5
}
