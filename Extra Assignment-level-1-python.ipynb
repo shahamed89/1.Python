{
 "cells": [
  {
   "cell_type": "markdown",
   "id": "7308cb6f-1fc1-41d2-b047-46b7626b152c",
   "metadata": {},
   "source": [
    "# Print statement "
   ]
  },
  {
   "cell_type": "code",
   "execution_count": 1,
   "id": "170e553a-ecfe-4a58-a7df-5b474e0eac01",
   "metadata": {},
   "outputs": [
    {
     "name": "stdout",
     "output_type": "stream",
     "text": [
      "HOPE AI\n"
     ]
    }
   ],
   "source": [
    "print(\"HOPE AI\")"
   ]
  },
  {
   "cell_type": "code",
   "execution_count": 3,
   "id": "4b5d5216-0dc9-4c21-8346-c3c5a02a8822",
   "metadata": {},
   "outputs": [
    {
     "name": "stdin",
     "output_type": "stream",
     "text": [
      "Enter your institute name? : HOPE AI\n"
     ]
    }
   ],
   "source": [
    "Num=input(\"Enter your institute name? :\")"
   ]
  },
  {
   "cell_type": "markdown",
   "id": "840c2bd8-e8cd-48b9-9a58-886de8c5bc52",
   "metadata": {},
   "source": [
    "# Buy inputs"
   ]
  },
  {
   "cell_type": "code",
   "execution_count": 9,
   "id": "6b248951-07b2-4378-80e7-32933e1947fa",
   "metadata": {},
   "outputs": [
    {
     "name": "stdin",
     "output_type": "stream",
     "text": [
      "Enter your Name: Raj\n",
      "Enter your Age: 15\n",
      "Enter your school name: Guru school\n",
      "Enter your drgree: B.E CSE\n"
     ]
    }
   ],
   "source": [
    "Name=input(\"Enter your Name:\")\n",
    "Age=int(input(\"Enter your Age:\"))\n",
    "School=input(\"Enter your school name:\")\n",
    "College=input(\"Enter your drgree:\")"
   ]
  },
  {
   "cell_type": "markdown",
   "id": "f803ad65-fe12-499a-a171-8e9399698d62",
   "metadata": {},
   "source": [
    "# Addition"
   ]
  },
  {
   "cell_type": "code",
   "execution_count": 12,
   "id": "02b5e675-d967-4ca7-bb6e-a0bb24b5df9d",
   "metadata": {},
   "outputs": [
    {
     "name": "stdout",
     "output_type": "stream",
     "text": [
      "a=43\n",
      "b=34\n",
      "Add: 77\n"
     ]
    }
   ],
   "source": [
    "a=43\n",
    "print(\"a=43\")\n",
    "b=34\n",
    "print(\"b=34\")\n",
    "print(\"Add:\",a+b)"
   ]
  },
  {
   "cell_type": "markdown",
   "id": "82388d76-7a97-49db-8b87-ff920df39261",
   "metadata": {},
   "source": [
    "# Subtraction"
   ]
  },
  {
   "cell_type": "code",
   "execution_count": 13,
   "id": "de4b4b81-d204-478a-9ef2-8837d1bd72a2",
   "metadata": {},
   "outputs": [
    {
     "name": "stdout",
     "output_type": "stream",
     "text": [
      "a=43\n",
      "b=34\n",
      "Sub: 9\n"
     ]
    }
   ],
   "source": [
    "a=43\n",
    "print(\"a=43\")\n",
    "b=34\n",
    "print(\"b=34\")\n",
    "print(\"Sub:\",a-b)"
   ]
  },
  {
   "cell_type": "markdown",
   "id": "523defd9-5e1b-4de1-9922-8604006ece0c",
   "metadata": {},
   "source": [
    "# Multiplication"
   ]
  },
  {
   "cell_type": "code",
   "execution_count": 20,
   "id": "cc88484c-0ebe-49f6-8f77-6de362175259",
   "metadata": {},
   "outputs": [
    {
     "name": "stdout",
     "output_type": "stream",
     "text": [
      "a=63\n",
      "b=97\n",
      "Mul: 6111\n"
     ]
    }
   ],
   "source": [
    "a=63\n",
    "print(\"a=63\")\n",
    "b=97\n",
    "print(\"b=97\")\n",
    "print(\"Mul:\",a*b)"
   ]
  },
  {
   "cell_type": "markdown",
   "id": "53b9a28f-96e3-4c07-af0a-2e9cc21638fe",
   "metadata": {},
   "source": [
    "# Division"
   ]
  },
  {
   "cell_type": "code",
   "execution_count": 22,
   "id": "728471f4-93e4-4bc5-9be1-8f35074bab41",
   "metadata": {},
   "outputs": [
    {
     "name": "stdout",
     "output_type": "stream",
     "text": [
      "a=76\n",
      "b=31\n",
      "Div: 2.4516129032258065\n"
     ]
    }
   ],
   "source": [
    "a=76\n",
    "print(\"a=76\")\n",
    "b=31\n",
    "print(\"b=31\")\n",
    "print(\"Div:\",a/b)"
   ]
  },
  {
   "cell_type": "markdown",
   "id": "11022294-7f0b-448f-afaa-44a0fa6018c9",
   "metadata": {},
   "source": [
    "# Floor division"
   ]
  },
  {
   "cell_type": "code",
   "execution_count": 23,
   "id": "d7c93a7b-5bf2-406d-af36-ff5c23be1ef8",
   "metadata": {},
   "outputs": [
    {
     "name": "stdout",
     "output_type": "stream",
     "text": [
      "a=76\n",
      "b=31\n",
      "Div: 2\n"
     ]
    }
   ],
   "source": [
    "a=76\n",
    "print(\"a=76\")\n",
    "b=31\n",
    "print(\"b=31\")\n",
    "print(\"Div:\",a//b)"
   ]
  },
  {
   "cell_type": "markdown",
   "id": "9f1c7bb3-a1c3-4c86-af7f-7a298d39345b",
   "metadata": {},
   "source": [
    "# Modulo"
   ]
  },
  {
   "cell_type": "code",
   "execution_count": 24,
   "id": "b0fee2a4-3403-4e82-bd80-60b5623cab17",
   "metadata": {},
   "outputs": [
    {
     "name": "stdout",
     "output_type": "stream",
     "text": [
      "a=76\n",
      "b=31\n",
      "Div: 14\n"
     ]
    }
   ],
   "source": [
    "a=76\n",
    "print(\"a=76\")\n",
    "b=31\n",
    "print(\"b=31\")\n",
    "print(\"Div:\",a%b)"
   ]
  },
  {
   "cell_type": "markdown",
   "id": "e859dd32-5739-4dcf-a799-71099896992f",
   "metadata": {},
   "source": [
    "# Power"
   ]
  },
  {
   "cell_type": "code",
   "execution_count": 26,
   "id": "f6170363-301a-4b59-ae1f-cbd1e7c86a46",
   "metadata": {},
   "outputs": [
    {
     "name": "stdout",
     "output_type": "stream",
     "text": [
      "a=4\n",
      "b=4\n",
      "Power: 256\n"
     ]
    }
   ],
   "source": [
    "a=4\n",
    "print(\"a=4\")\n",
    "b=4\n",
    "print(\"b=4\")\n",
    "print(\"Power:\",a**b)"
   ]
  },
  {
   "cell_type": "code",
   "execution_count": 29,
   "id": "1a5b787d-c239-405f-a34a-b30c63ec52e3",
   "metadata": {},
   "outputs": [
    {
     "name": "stdout",
     "output_type": "stream",
     "text": [
      "a=4\n",
      "b=4\n",
      "Power: 256\n"
     ]
    }
   ],
   "source": [
    "print(\"a=4\")\n",
    "print(\"b=4\")\n",
    "x=pow(4,4)\n",
    "print(\"Power:\",x)"
   ]
  },
  {
   "cell_type": "code",
   "execution_count": null,
   "id": "2eb98fb0-78a8-4f68-a734-9cc40cfcf85a",
   "metadata": {},
   "outputs": [],
   "source": []
  }
 ],
 "metadata": {
  "kernelspec": {
   "display_name": "Python 3 (ipykernel)",
   "language": "python",
   "name": "python3"
  },
  "language_info": {
   "codemirror_mode": {
    "name": "ipython",
    "version": 3
   },
   "file_extension": ".py",
   "mimetype": "text/x-python",
   "name": "python",
   "nbconvert_exporter": "python",
   "pygments_lexer": "ipython3",
   "version": "3.12.4"
  }
 },
 "nbformat": 4,
 "nbformat_minor": 5
}
