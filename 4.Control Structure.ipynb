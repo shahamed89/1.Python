{
 "cells": [
  {
   "cell_type": "code",
   "execution_count": null,
   "id": "8e4f1e1a-0c0e-455e-b8ae-5c8f29d2b81a",
   "metadata": {},
   "outputs": [],
   "source": [
    "if():\n",
    "    print()\n",
    "    "
   ]
  },
  {
   "cell_type": "code",
   "execution_count": null,
   "id": "d58e699a-50fb-46f9-b3c9-3a9f9c39f218",
   "metadata": {},
   "outputs": [],
   "source": [
    "if():\n",
    "    print()\n",
    "else:\n",
    "    print()\n",
    "    "
   ]
  },
  {
   "cell_type": "code",
   "execution_count": 9,
   "id": "aea13618-8e7b-4f4e-8b17-74739720036f",
   "metadata": {},
   "outputs": [
    {
     "name": "stdin",
     "output_type": "stream",
     "text": [
      "Enter the Age: 18\n"
     ]
    }
   ],
   "source": [
    "age=int(input(\"Enter the Age:\"))"
   ]
  },
  {
   "cell_type": "code",
   "execution_count": 11,
   "id": "6b4cbdc4-cf18-4e28-8741-c7572ccc2906",
   "metadata": {},
   "outputs": [
    {
     "name": "stdout",
     "output_type": "stream",
     "text": [
      "Children\n"
     ]
    }
   ],
   "source": [
    "if(age<=18):\n",
    "    print(\"Children\")\n",
    "else:\n",
    "    print(\"Adult\")"
   ]
  },
  {
   "cell_type": "code",
   "execution_count": 10,
   "id": "a2f87a99-deb6-414b-9732-e7f60def2c56",
   "metadata": {},
   "outputs": [
    {
     "name": "stdout",
     "output_type": "stream",
     "text": [
      "Adult\n"
     ]
    }
   ],
   "source": [
    "if(age==18):\n",
    "    print(\"Adult\")"
   ]
  },
  {
   "cell_type": "code",
   "execution_count": 16,
   "id": "73b23082-f3e1-4b66-a6cb-b5c498d5347d",
   "metadata": {},
   "outputs": [
    {
     "name": "stdin",
     "output_type": "stream",
     "text": [
      "Enter the Age: 70\n"
     ]
    }
   ],
   "source": [
    "age=int(input(\"Enter the Age:\"))\n"
   ]
  },
  {
   "cell_type": "code",
   "execution_count": 17,
   "id": "0897922f-2824-4d45-bcb2-d0e84ca37f19",
   "metadata": {},
   "outputs": [
    {
     "name": "stdout",
     "output_type": "stream",
     "text": [
      "senior citizens\n"
     ]
    }
   ],
   "source": [
    "if(age<18):\n",
    "    print(\"Children\")\n",
    "elif(age<35):\n",
    "    print(\"Adult\")\n",
    "elif(age<59):\n",
    "    print(\"citizens\")\n",
    "else:\n",
    "    print(\"senior citizens\")"
   ]
  },
  {
   "cell_type": "code",
   "execution_count": 4,
   "id": "0c3ab4e2-83c6-4712-b0f0-c09452b809d9",
   "metadata": {},
   "outputs": [
    {
     "name": "stdin",
     "output_type": "stream",
     "text": [
      "Enter the Number: 10\n"
     ]
    }
   ],
   "source": [
    "num=int(input(\"Enter the Number:\"))"
   ]
  },
  {
   "cell_type": "code",
   "execution_count": 5,
   "id": "48c6b23e-5711-4df0-86ce-84b7539aac89",
   "metadata": {},
   "outputs": [
    {
     "name": "stdout",
     "output_type": "stream",
     "text": [
      "Even Number\n"
     ]
    }
   ],
   "source": [
    "if((num%2)==0):\n",
    "    print(\"Even Number\")\n",
    "else:\n",
    "    print(\"Odd Number\")"
   ]
  },
  {
   "cell_type": "code",
   "execution_count": 8,
   "id": "dc8d3861-8419-451b-a458-ff1f7e9af78b",
   "metadata": {},
   "outputs": [
    {
     "name": "stdin",
     "output_type": "stream",
     "text": [
      "Enter the Number: 3\n"
     ]
    }
   ],
   "source": [
    "num=int(input(\"Enter the Number:\"))"
   ]
  },
  {
   "cell_type": "code",
   "execution_count": 9,
   "id": "1d9a8514-35ad-479f-bdd5-27a96cca96ce",
   "metadata": {},
   "outputs": [
    {
     "name": "stdout",
     "output_type": "stream",
     "text": [
      "Odd Number\n"
     ]
    }
   ],
   "source": [
    "if((num%2)==1):\n",
    "    print(\"Odd Number\")\n",
    "else:\n",
    "    print(\"Even Number\")"
   ]
  },
  {
   "cell_type": "markdown",
   "id": "c7f407b0-45f0-4ca7-b553-4221170c5926",
   "metadata": {},
   "source": [
    "# for loop"
   ]
  },
  {
   "cell_type": "code",
   "execution_count": 15,
   "id": "1ab7bc88-27ae-4180-8ef2-f853957f552b",
   "metadata": {},
   "outputs": [
    {
     "name": "stdout",
     "output_type": "stream",
     "text": [
      "10\n",
      "21\n",
      "34\n",
      "55\n",
      "79\n"
     ]
    }
   ],
   "source": [
    "lists=[10,21,34,55,79]\n",
    "for temp in lists:\n",
    "    print(temp)"
   ]
  },
  {
   "cell_type": "code",
   "execution_count": 21,
   "id": "8ed06987-9067-4a28-ba95-58c7b3bf6092",
   "metadata": {},
   "outputs": [
    {
     "name": "stdout",
     "output_type": "stream",
     "text": [
      "Children\n",
      "Adults\n",
      "Citizen\n",
      "Senior Citizen\n",
      "Super Senior\n"
     ]
    }
   ],
   "source": [
    "for age in lists:\n",
    "    if(age<18):\n",
    "        print(\"Children\")\n",
    "    elif(age<25):\n",
    "        print(\"Adults\")\n",
    "    elif(age<35):\n",
    "        print(\"Citizen\")\n",
    "    elif(age<60):\n",
    "        print(\"Senior Citizen\")\n",
    "    else:\n",
    "        print(\"Super Senior\")\n",
    "  "
   ]
  },
  {
   "cell_type": "markdown",
   "id": "e6203745-8148-416c-a42c-9acfb43d2f2b",
   "metadata": {},
   "source": [
    "# Range"
   ]
  },
  {
   "cell_type": "code",
   "execution_count": 2,
   "id": "b175d8dc-5654-49a4-95a9-b6a920fe09e6",
   "metadata": {},
   "outputs": [
    {
     "name": "stdout",
     "output_type": "stream",
     "text": [
      "0\n",
      "1\n",
      "2\n",
      "3\n",
      "4\n",
      "5\n",
      "6\n",
      "7\n",
      "8\n",
      "9\n"
     ]
    }
   ],
   "source": [
    "for num in range(0,10):\n",
    "    print(num)"
   ]
  },
  {
   "cell_type": "code",
   "execution_count": 3,
   "id": "b7e87b56-31cd-4a59-a481-7ffe50a9a34b",
   "metadata": {},
   "outputs": [
    {
     "name": "stdout",
     "output_type": "stream",
     "text": [
      "0\n",
      "3\n",
      "6\n",
      "9\n"
     ]
    }
   ],
   "source": [
    "for num in range(0,10,3):\n",
    "    print(num)"
   ]
  },
  {
   "cell_type": "code",
   "execution_count": null,
   "id": "b9332e43-1d41-4ee6-870d-f0e31a5cff77",
   "metadata": {},
   "outputs": [],
   "source": []
  }
 ],
 "metadata": {
  "kernelspec": {
   "display_name": "Python 3 (ipykernel)",
   "language": "python",
   "name": "python3"
  },
  "language_info": {
   "codemirror_mode": {
    "name": "ipython",
    "version": 3
   },
   "file_extension": ".py",
   "mimetype": "text/x-python",
   "name": "python",
   "nbconvert_exporter": "python",
   "pygments_lexer": "ipython3",
   "version": "3.12.4"
  }
 },
 "nbformat": 4,
 "nbformat_minor": 5
}
