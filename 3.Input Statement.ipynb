{
 "cells": [
  {
   "cell_type": "code",
   "execution_count": 1,
   "id": "5c676c30-e73b-4527-a836-1a84890cd1fc",
   "metadata": {},
   "outputs": [
    {
     "ename": "SyntaxError",
     "evalue": "invalid syntax (3073768702.py, line 1)",
     "output_type": "error",
     "traceback": [
      "\u001b[1;36m  Cell \u001b[1;32mIn[1], line 1\u001b[1;36m\u001b[0m\n\u001b[1;33m    num1=input print(\"Enter the Name:\")\u001b[0m\n\u001b[1;37m               ^\u001b[0m\n\u001b[1;31mSyntaxError\u001b[0m\u001b[1;31m:\u001b[0m invalid syntax\n"
     ]
    }
   ],
   "source": [
    "num1=input print(\"Enter the Name:\")"
   ]
  },
  {
   "cell_type": "code",
   "execution_count": 5,
   "id": "3b6a2632-12be-4d6e-ba27-953031720b6b",
   "metadata": {},
   "outputs": [
    {
     "name": "stdin",
     "output_type": "stream",
     "text": [
      "Enter the Number 1: 50\n"
     ]
    }
   ],
   "source": [
    "num1=int(input(\"Enter the Number 1:\"))"
   ]
  },
  {
   "cell_type": "code",
   "execution_count": 6,
   "id": "6a95d417-a524-452c-aa97-dae0df4c5881",
   "metadata": {},
   "outputs": [
    {
     "name": "stdin",
     "output_type": "stream",
     "text": [
      "Enter the Number 2: 60\n"
     ]
    }
   ],
   "source": [
    "num2=int(input(\"Enter the Number 2:\"))"
   ]
  },
  {
   "cell_type": "code",
   "execution_count": 7,
   "id": "480d2001-f58f-4965-8ef5-b55c38d846e7",
   "metadata": {},
   "outputs": [
    {
     "name": "stdout",
     "output_type": "stream",
     "text": [
      "The sum of two number: 110\n"
     ]
    }
   ],
   "source": [
    "add=num1+num2\n",
    "print(\"The sum of two number:\",add)"
   ]
  },
  {
   "cell_type": "code",
   "execution_count": 11,
   "id": "0a352a9a-96f8-4734-b249-509c779c64fb",
   "metadata": {},
   "outputs": [
    {
     "name": "stdin",
     "output_type": "stream",
     "text": [
      "Enter The Name: SHA AHAMED\n"
     ]
    }
   ],
   "source": [
    "Name=input(\"Enter The Name:\")"
   ]
  },
  {
   "cell_type": "code",
   "execution_count": null,
   "id": "2a4bd1b1-b454-4c05-afda-48a93839db27",
   "metadata": {},
   "outputs": [],
   "source": []
  }
 ],
 "metadata": {
  "kernelspec": {
   "display_name": "Python 3 (ipykernel)",
   "language": "python",
   "name": "python3"
  },
  "language_info": {
   "codemirror_mode": {
    "name": "ipython",
    "version": 3
   },
   "file_extension": ".py",
   "mimetype": "text/x-python",
   "name": "python",
   "nbconvert_exporter": "python",
   "pygments_lexer": "ipython3",
   "version": "3.12.4"
  }
 },
 "nbformat": 4,
 "nbformat_minor": 5
}
