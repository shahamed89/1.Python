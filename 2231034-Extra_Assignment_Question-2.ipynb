{
 "cells": [
  {
   "cell_type": "markdown",
   "id": "4baf3506-dd78-453f-8583-b2c75b89a0aa",
   "metadata": {},
   "source": [
    "# print 0 to 20 by using range"
   ]
  },
  {
   "cell_type": "code",
   "execution_count": 11,
   "id": "48b873f5-fb1d-48b0-a412-f0b76cb967f8",
   "metadata": {},
   "outputs": [
    {
     "name": "stdout",
     "output_type": "stream",
     "text": [
      "0\n",
      "1\n",
      "2\n",
      "3\n",
      "4\n",
      "5\n",
      "6\n",
      "7\n",
      "8\n",
      "9\n",
      "10\n",
      "11\n",
      "12\n",
      "13\n",
      "14\n",
      "15\n",
      "16\n",
      "17\n",
      "18\n",
      "19\n"
     ]
    }
   ],
   "source": [
    "for num in range(0,20):\n",
    "    print(num)"
   ]
  },
  {
   "cell_type": "markdown",
   "id": "8c6ab0e0-52ec-4c80-9683-e182e4b650b8",
   "metadata": {},
   "source": [
    "# print range 10 to 20"
   ]
  },
  {
   "cell_type": "code",
   "execution_count": 5,
   "id": "9c687a6b-b757-4403-b704-ec8127f6113c",
   "metadata": {},
   "outputs": [
    {
     "name": "stdout",
     "output_type": "stream",
     "text": [
      "10\n",
      "11\n",
      "12\n",
      "13\n",
      "14\n",
      "15\n",
      "16\n",
      "17\n",
      "18\n",
      "19\n"
     ]
    }
   ],
   "source": [
    "for num in range(10,20):\n",
    "    print(num)"
   ]
  },
  {
   "cell_type": "markdown",
   "id": "4e2f603b-0e0b-4275-9dbc-a495253c82af",
   "metadata": {},
   "source": [
    "# Print number of items in the list by using 'len'"
   ]
  },
  {
   "cell_type": "code",
   "execution_count": 9,
   "id": "74f6079a-8106-4245-8729-d7bbff2b2299",
   "metadata": {},
   "outputs": [
    {
     "name": "stdout",
     "output_type": "stream",
     "text": [
      "Number of item in the List2: 7\n"
     ]
    }
   ],
   "source": [
    "lists=[10, 20, 14, 55, 43, 87, 76]\n",
    "print(\"Number of item in the List2:\",len(lists))"
   ]
  },
  {
   "cell_type": "code",
   "execution_count": 22,
   "id": "9d75af4f-98e1-4046-90a0-a3ae4427ae7b",
   "metadata": {},
   "outputs": [
    {
     "name": "stdout",
     "output_type": "stream",
     "text": [
      "Artificial Intelligence\n",
      "A\n",
      "r\n",
      "t\n",
      "i\n",
      "f\n",
      "i\n",
      "c\n",
      "i\n",
      "a\n",
      "l\n",
      " \n",
      "I\n",
      "n\n",
      "t\n",
      "e\n",
      "l\n",
      "l\n",
      "i\n",
      "g\n",
      "e\n",
      "n\n",
      "c\n",
      "e\n"
     ]
    }
   ],
   "source": [
    "print(\"Artificial Intelligence\")\n",
    "x=\"Artificial Intelligence\"\n",
    "for num in x:\n",
    "    print(num)"
   ]
  },
  {
   "cell_type": "code",
   "execution_count": 23,
   "id": "5a8e9a37-60d8-47f1-a814-ffcf94881f33",
   "metadata": {},
   "outputs": [
    {
     "name": "stdout",
     "output_type": "stream",
     "text": [
      "Your Name\n",
      "Your Age\n",
      "Your Profession\n"
     ]
    }
   ],
   "source": [
    "print(\"Your Name\")\n",
    "print(\"Your Age\")\n",
    "print(\"Your Profession\")"
   ]
  },
  {
   "cell_type": "code",
   "execution_count": 24,
   "id": "206032d1-ae20-4cee-bfa8-ffd196be5560",
   "metadata": {},
   "outputs": [
    {
     "name": "stdout",
     "output_type": "stream",
     "text": [
      "Initial empty Tuple:\n",
      "()\n"
     ]
    }
   ],
   "source": [
    "Tuple1=()\n",
    "print(\"Initial empty Tuple:\")\n",
    "print(Tuple1)"
   ]
  },
  {
   "cell_type": "code",
   "execution_count": 25,
   "id": "e39e737d-7be3-4345-bdfa-3d75ada25801",
   "metadata": {},
   "outputs": [
    {
     "name": "stdout",
     "output_type": "stream",
     "text": [
      "Initial empty Tuple:\n",
      "(1, 'Welcome', 2, 'Hope')\n"
     ]
    }
   ],
   "source": [
    "Tuple1=(1, 'Welcome', 2, 'Hope')\n",
    "print(\"Initial empty Tuple:\")\n",
    "print(Tuple1)"
   ]
  },
  {
   "cell_type": "code",
   "execution_count": 27,
   "id": "915ae28d-b2ca-4d7b-9071-6002dba86cff",
   "metadata": {},
   "outputs": [
    {
     "name": "stdout",
     "output_type": "stream",
     "text": [
      "Initial empty Tuple:\n",
      "('W', 'e', 'l', 'c', 'o', 'm', 'e')\n"
     ]
    }
   ],
   "source": [
    "Tuple1=tuple(\"Welcome\")\n",
    "print(\"Initial empty Tuple:\")\n",
    "print(Tuple1)"
   ]
  },
  {
   "cell_type": "code",
   "execution_count": 28,
   "id": "d170cf9d-9ca1-4771-8161-9fc3beae0d77",
   "metadata": {},
   "outputs": [
    {
     "name": "stdout",
     "output_type": "stream",
     "text": [
      "(0, 1, 2, 3, 4, 'Python', 'Hope')\n"
     ]
    }
   ],
   "source": [
    "Tuple1=(0,1,2,3,4)\n",
    "Tuple2=(\"Python\",\"Hope\")\n",
    "Tuple3=Tuple1+Tuple2\n",
    "print(Tuple3)"
   ]
  },
  {
   "cell_type": "code",
   "execution_count": 35,
   "id": "6d7e6212-c20f-4f90-813e-69ca465807f2",
   "metadata": {},
   "outputs": [
    {
     "name": "stdout",
     "output_type": "stream",
     "text": [
      "19 is Odd\n",
      "25 is Odd\n",
      "1 is Odd\n"
     ]
    }
   ],
   "source": [
    "Lists=[20,10,16,19,25,1,276,188]\n",
    "for num in Lists:\n",
    "    if(num%2==1):\n",
    "        print(num,\"is Odd\")\n",
    "        "
   ]
  },
  {
   "cell_type": "code",
   "execution_count": 38,
   "id": "721bdebd-74dc-485d-9710-d68de76bc079",
   "metadata": {},
   "outputs": [
    {
     "name": "stdout",
     "output_type": "stream",
     "text": [
      "20 is Even\n",
      "10 is Even\n",
      "16 is Even\n",
      "276 is Even\n",
      "188 is Even\n"
     ]
    }
   ],
   "source": [
    "Lists=[20,10,16,19,25,1,276,188]\n",
    "for num in Lists:\n",
    "    if(num%2==0):\n",
    "        print(num,\"is Even\")\n",
    "        "
   ]
  },
  {
   "cell_type": "code",
   "execution_count": null,
   "id": "9cee86f1-9b6f-4475-8286-e6b4883d974e",
   "metadata": {},
   "outputs": [],
   "source": []
  }
 ],
 "metadata": {
  "kernelspec": {
   "display_name": "Python 3 (ipykernel)",
   "language": "python",
   "name": "python3"
  },
  "language_info": {
   "codemirror_mode": {
    "name": "ipython",
    "version": 3
   },
   "file_extension": ".py",
   "mimetype": "text/x-python",
   "name": "python",
   "nbconvert_exporter": "python",
   "pygments_lexer": "ipython3",
   "version": "3.12.4"
  }
 },
 "nbformat": 4,
 "nbformat_minor": 5
}
