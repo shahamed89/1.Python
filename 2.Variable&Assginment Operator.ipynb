{
 "cells": [
  {
   "cell_type": "markdown",
   "id": "1e09d1a2-c571-476b-a10e-7edf478221c3",
   "metadata": {},
   "source": [
    "num1=10\n",
    "num2=20\n",
    "add=num1+num2"
   ]
  },
  {
   "cell_type": "code",
   "execution_count": 1,
   "id": "28974950-41f3-490d-86ed-fed9a252c867",
   "metadata": {},
   "outputs": [
    {
     "name": "stdout",
     "output_type": "stream",
     "text": [
      "Total Amount is: 30\n"
     ]
    }
   ],
   "source": [
    "num1=10\n",
    "num2=20\n",
    "add=num1+num2\n",
    "print(\"Total Amount is:\",add)"
   ]
  },
  {
   "cell_type": "code",
   "execution_count": 3,
   "id": "607856b5-722b-4e9c-92af-3e804d3d0f87",
   "metadata": {},
   "outputs": [],
   "source": [
    "sub=num2-num1"
   ]
  },
  {
   "cell_type": "code",
   "execution_count": 4,
   "id": "99ee7ae1-ad18-4b1e-b35e-36b758821829",
   "metadata": {},
   "outputs": [
    {
     "name": "stdout",
     "output_type": "stream",
     "text": [
      "Total Amount is: 10\n"
     ]
    }
   ],
   "source": [
    "print(\"Total Amount is:\",sub)"
   ]
  },
  {
   "cell_type": "code",
   "execution_count": 7,
   "id": "402df052-5038-4d68-9b83-7f46a33ab094",
   "metadata": {},
   "outputs": [
    {
     "name": "stdout",
     "output_type": "stream",
     "text": [
      "The Addition of two numbers\n",
      "The Number 1: 50\n",
      "The Number 2: 20\n"
     ]
    }
   ],
   "source": [
    "print(\"The Addition of two numbers\")\n",
    "num1=50\n",
    "print(\"The Number 1:\",num1)\n",
    "print(\"The Number 2:\",num2)"
   ]
  },
  {
   "cell_type": "code",
   "execution_count": 6,
   "id": "b3d95291-80ab-43c2-8fd7-96af1e0d9173",
   "metadata": {},
   "outputs": [
    {
     "name": "stdout",
     "output_type": "stream",
     "text": [
      "The Number 2: 20\n"
     ]
    }
   ],
   "source": [
    "print(\"The Number 2:\",num2)"
   ]
  },
  {
   "cell_type": "code",
   "execution_count": null,
   "id": "1c8d8501-5633-449b-91a3-abffd04a15e3",
   "metadata": {},
   "outputs": [],
   "source": []
  }
 ],
 "metadata": {
  "kernelspec": {
   "display_name": "Python 3 (ipykernel)",
   "language": "python",
   "name": "python3"
  },
  "language_info": {
   "codemirror_mode": {
    "name": "ipython",
    "version": 3
   },
   "file_extension": ".py",
   "mimetype": "text/x-python",
   "name": "python",
   "nbconvert_exporter": "python",
   "pygments_lexer": "ipython3",
   "version": "3.12.4"
  }
 },
 "nbformat": 4,
 "nbformat_minor": 5
}
